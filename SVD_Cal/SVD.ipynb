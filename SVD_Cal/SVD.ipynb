{
 "cells": [
  {
   "cell_type": "code",
   "execution_count": 1,
   "metadata": {},
   "outputs": [],
   "source": [
    "import numpy as np"
   ]
  },
  {
   "cell_type": "code",
   "execution_count": 3,
   "metadata": {},
   "outputs": [
    {
     "output_type": "stream",
     "name": "stdout",
     "text": "[[1 0 2]\n [0 1 0]\n [2 0 1]\n [0 1 1]]\n"
    }
   ],
   "source": [
    "matrix=np.array()\n",
    "print(matrix)"
   ]
  },
  {
   "cell_type": "code",
   "execution_count": 4,
   "metadata": {},
   "outputs": [],
   "source": [
    "U,D,VT= np.linalg.svd(matrix)"
   ]
  },
  {
   "cell_type": "code",
   "execution_count": 5,
   "metadata": {},
   "outputs": [
    {
     "output_type": "stream",
     "name": "stdout",
     "text": "[[-6.95364108e-01 -9.60332228e-02  5.77350269e-01 -4.17028828e-01]\n [-3.18730871e-02 -5.23780894e-01 -5.77350269e-01 -6.25543242e-01]\n [-6.63491021e-01  4.27747671e-01 -5.77350269e-01  2.08514414e-01]\n [-2.74285486e-01 -7.30385600e-01  1.99840144e-15  6.25543242e-01]]\n"
    }
   ],
   "source": [
    "print(U)\n"
   ]
  },
  {
   "cell_type": "code",
   "execution_count": 6,
   "metadata": {},
   "outputs": [
    {
     "output_type": "stream",
     "name": "stdout",
     "text": "[3.09928238 1.54740063 1.        ]\n"
    }
   ],
   "source": [
    "print(D)"
   ]
  },
  {
   "cell_type": "code",
   "execution_count": 7,
   "metadata": {},
   "outputs": [
    {
     "output_type": "stream",
     "name": "stdout",
     "text": "[[-0.65252078 -0.0987837  -0.75130448]\n [ 0.49079864 -0.81049889 -0.31970025]\n [-0.57735027 -0.57735027  0.57735027]]\n"
    }
   ],
   "source": [
    "print(VT)"
   ]
  },
  {
   "cell_type": "code",
   "execution_count": 8,
   "metadata": {},
   "outputs": [
    {
     "output_type": "stream",
     "name": "stdout",
     "text": "[[-0.2173913   0.17391304  0.60869565 -0.17391304]\n [-0.26086957  0.60869565  0.13043478  0.39130435]\n [ 0.52173913 -0.2173913  -0.26086957  0.2173913 ]]\n"
    }
   ],
   "source": [
    "pinv = np.linalg.pinv(matrix)\n",
    "print(pinv)"
   ]
  },
  {
   "cell_type": "code",
   "execution_count": 9,
   "metadata": {},
   "outputs": [
    {
     "output_type": "stream",
     "name": "stdout",
     "text": "[[1 2 1]\n [0 1 0]\n [0 0 1]]\n[[ 0.93417236  0.          0.35682209]\n [ 0.31915138 -0.4472136  -0.83554916]\n [ 0.15957569  0.89442719 -0.41777458]]\n[[ 0.35682209  0.83554916  0.41777458]\n [ 0.         -0.4472136   0.89442719]\n [ 0.93417236 -0.31915138 -0.15957569]]\n[2.61803399 1.         0.38196601]\n[[ 1.00000000e+00 -2.00000000e+00 -1.00000000e+00]\n [ 4.22724325e-17  1.00000000e+00  5.77345902e-17]\n [ 2.11362162e-17  2.22343897e-18  1.00000000e+00]]\n"
    }
   ],
   "source": [
    "matrix=np.array([[1,2,1],[0,1,0],[0,0,1]])\n",
    "print(matrix)\n",
    "U,D,VT= np.linalg.svd(matrix)\n",
    "print(U)\n",
    "print(VT)\n",
    "print(D)\n",
    "pinv = np.linalg.pinv(matrix)\n",
    "print(pinv)"
   ]
  },
  {
   "cell_type": "code",
   "execution_count": 10,
   "metadata": {},
   "outputs": [
    {
     "output_type": "stream",
     "name": "stdout",
     "text": "[[1 0 2]\n [0 1 0]\n [2 0 1]\n [0 1 1]]\n[[-6.95364108e-01 -9.60332228e-02  5.77350269e-01 -4.17028828e-01]\n [-3.18730871e-02 -5.23780894e-01 -5.77350269e-01 -6.25543242e-01]\n [-6.63491021e-01  4.27747671e-01 -5.77350269e-01  2.08514414e-01]\n [-2.74285486e-01 -7.30385600e-01  1.99840144e-15  6.25543242e-01]]\n[[-0.65252078 -0.0987837  -0.75130448]\n [ 0.49079864 -0.81049889 -0.31970025]\n [-0.57735027 -0.57735027  0.57735027]]\n[3.09928238 1.54740063 1.        ]\n[[-0.2173913   0.17391304  0.60869565 -0.17391304]\n [-0.26086957  0.60869565  0.13043478  0.39130435]\n [ 0.52173913 -0.2173913  -0.26086957  0.2173913 ]]\n"
    }
   ],
   "source": [
    "matrix=np.array([[1,0,2],[0,1,0],[2,0,1],[0,1,1]])\n",
    "print(matrix)\n",
    "U,D,VT= np.linalg.svd(matrix)\n",
    "print(U)\n",
    "print(VT)\n",
    "print(D)\n",
    "pinv = np.linalg.pinv(matrix)\n",
    "print(pinv)"
   ]
  },
  {
   "cell_type": "code",
   "execution_count": null,
   "metadata": {},
   "outputs": [],
   "source": []
  }
 ],
 "metadata": {
  "language_info": {
   "codemirror_mode": {
    "name": "ipython",
    "version": 3
   },
   "file_extension": ".py",
   "mimetype": "text/x-python",
   "name": "python",
   "nbconvert_exporter": "python",
   "pygments_lexer": "ipython3",
   "version": "3.7.0-final"
  },
  "orig_nbformat": 2,
  "kernelspec": {
   "name": "python37064bit241e67d6cba347fdadab011c958a0214",
   "display_name": "Python 3.7.0 64-bit"
  }
 },
 "nbformat": 4,
 "nbformat_minor": 2
}