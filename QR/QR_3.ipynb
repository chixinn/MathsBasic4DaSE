{
 "cells": [
  {
   "cell_type": "code",
   "execution_count": 2,
   "metadata": {},
   "outputs": [
    {
     "output_type": "stream",
     "name": "stdout",
     "text": "[[ 0.75    0.      0.6614]\n [ 0.6614  0.     -0.75  ]\n [ 0.      1.      0.    ]]\n[[4. 4.]\n [0. 1.]\n [0. 0.]]\n[[3.     3.    ]\n [2.6458 2.6458]\n [0.     1.    ]]\n"
    }
   ],
   "source": [
    "#coding:utf8\n",
    "import numpy as np\n",
    "import math\n",
    "\n",
    "def gram_schmidt(A):\n",
    "    \"\"\"Gram-schmidt正交化\"\"\"\n",
    "    Q=np.zeros_like(A)\n",
    "    cnt = 0\n",
    "    for a in A.T:\n",
    "        u = np.copy(a)\n",
    "        for i in range(0, cnt):\n",
    "            u -= np.dot(np.dot(Q[:, i].T, a), Q[:, i]) # 减去待求向量在以求向量上的投影\n",
    "        e = u / np.linalg.norm(u)  # 归一化\n",
    "        Q[:, cnt] = e\n",
    "        cnt += 1\n",
    "    R = np.dot(Q.T, A)\n",
    "    return (Q, R)\n",
    "\n",
    "def givens_rotation(A):\n",
    "    \"\"\"Givens变换\"\"\"\n",
    "    (r, c) = np.shape(A)\n",
    "    Q = np.identity(r)\n",
    "    R = np.copy(A)\n",
    "    (rows, cols) = np.tril_indices(r, -1, c)\n",
    "    for (row, col) in zip(rows, cols):\n",
    "        if R[row, col] != 0:  # R[row, col]=0则c=1,s=0,R、Q不变\n",
    "            r_ = np.hypot(R[col, col], R[row, col])  # d\n",
    "            c = R[col, col]/r_\n",
    "            s = -R[row, col]/r_\n",
    "            G = np.identity(r)\n",
    "            G[[col, row], [col, row]] = c\n",
    "            G[row, col] = s\n",
    "            G[col, row] = -s\n",
    "            R = np.dot(G, R)  # R=G(n-1,n)*...*G(2n)*...*G(23,1n)*...*G(12)*A\n",
    "            Q = np.dot(Q, G.T)  # Q=G(n-1,n).T*...*G(2n).T*...*G(23,1n).T*...*G(12).T\n",
    "    return (Q, R)\n",
    "\n",
    "def householder_reflection(A):\n",
    "    \"\"\"Householder变换\"\"\"\n",
    "    (r, c) = np.shape(A)\n",
    "    Q = np.identity(r)\n",
    "    R = np.copy(A)\n",
    "    for cnt in range(r - 1):\n",
    "        x = R[cnt:, cnt]\n",
    "        e = np.zeros_like(x)\n",
    "        e[0] = np.linalg.norm(x)\n",
    "        u = x - e\n",
    "        v = u / np.linalg.norm(u)\n",
    "        Q_cnt = np.identity(r)\n",
    "        Q_cnt[cnt:, cnt:] -= 2.0 * np.outer(v, v)\n",
    "        R = np.dot(Q_cnt, R)  # R=H(n-1)*...*H(2)*H(1)*A\n",
    "        Q = np.dot(Q, Q_cnt)  # Q=H(n-1)*...*H(2)*H(1)  H为自逆矩阵\n",
    "    return (Q, R)\n",
    "\n",
    "np.set_printoptions(precision=4, suppress=True)\n",
    "A = np.array([[3,3],[math.sqrt(7),math.sqrt(7)],[0,1]],dtype=float)\n",
    "\n",
    "\n",
    "(Q, R) = givens_rotation(A)\n",
    "print(Q)\n",
    "print(R)\n",
    "res1=np.dot(Q,R)\n",
    "print (res1)\n"
   ]
  },
  {
   "cell_type": "code",
   "execution_count": null,
   "metadata": {},
   "outputs": [],
   "source": []
  }
 ],
 "metadata": {
  "language_info": {
   "codemirror_mode": {
    "name": "ipython",
    "version": 3
   },
   "file_extension": ".py",
   "mimetype": "text/x-python",
   "name": "python",
   "nbconvert_exporter": "python",
   "pygments_lexer": "ipython3",
   "version": "3.7.0-final"
  },
  "orig_nbformat": 2,
  "kernelspec": {
   "name": "python37064bit4634c396f7274cfc84a357ec6ff6998c",
   "display_name": "Python 3.7.0 64-bit"
  }
 },
 "nbformat": 4,
 "nbformat_minor": 2
}