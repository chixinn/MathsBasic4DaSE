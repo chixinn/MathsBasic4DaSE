{
 "cells": [
  {
   "cell_type": "code",
   "execution_count": 7,
   "metadata": {},
   "outputs": [],
   "source": [
    "import socket\n"
   ]
  },
  {
   "cell_type": "code",
   "execution_count": 9,
   "metadata": {},
   "outputs": [
    {
     "output_type": "stream",
     "name": "stdout",
     "text": "CPU usage rate is  123456\nTop 10 processes are flowing...\nNAME                PID  CPU usage \n"
    }
   ],
   "source": [
    "s = socket.socket(socket.AF_INET, socket.SOCK_DGRAM)  #IPV4,UDP\n",
    "s_addr=('10.16.4.163',8088)\n",
    "s.sendto(b'test',s_addr)  #发送数据\n",
    "(data_b,addr)=s.recvfrom(1024)  #从服务器接受,最高1024数据\n",
    "data_s=data_b.decode('utf-8')  #编码格式\n",
    "if addr==s_addr:\n",
    "   data_s=data_b.decode('utf-8')\n",
    "   data_list=data_s.split('\\n')\n",
    "   print('CPU usage rate is ',data_list[0])\n",
    "   print('Top 10 processes are flowing...')\n",
    "   print('%-20s%-5s%-10s' % ('NAME','PID','CPU usage'))\n",
    "   data_list=data_l\n",
    "   \n",
    "   ist[1:-1]\n",
    "   for xx in data_list:\n",
    "      yy=xx.split(',')\n",
    "      print('%-20s%-5s%-10s' % (yy[0],yy[1],yy[2]))\n",
    "s.close()"
   ]
  },
  {
   "cell_type": "code",
   "execution_count": null,
   "metadata": {},
   "outputs": [],
   "source": []
  }
 ],
 "metadata": {
  "language_info": {
   "codemirror_mode": {
    "name": "ipython",
    "version": 3
   },
   "file_extension": ".py",
   "mimetype": "text/x-python",
   "name": "python",
   "nbconvert_exporter": "python",
   "pygments_lexer": "ipython3",
   "version": "3.7.3-final"
  },
  "orig_nbformat": 2,
  "kernelspec": {
   "name": "python37364bitb878dcf275b9479e8d2afab3b5fd4d34",
   "display_name": "Python 3.7.3 64-bit"
  }
 },
 "nbformat": 4,
 "nbformat_minor": 2
}