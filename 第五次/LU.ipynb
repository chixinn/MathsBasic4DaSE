{
 "cells": [
  {
   "cell_type": "code",
   "execution_count": 1,
   "metadata": {},
   "outputs": [],
   "source": [
    "import numpy as np\n",
    "import math"
   ]
  },
  {
   "cell_type": "code",
   "execution_count": 2,
   "metadata": {},
   "outputs": [
    {
     "output_type": "stream",
     "name": "stdout",
     "text": "[[ 1  2  3]\n [ 4  5  6]\n [ 7  8 10]]\n[[ 1  2  3]\n [ 4  5  6]\n [ 7  8 10]]\n[[1 0 0]\n [0 1 0]\n [0 0 1]]\n[[0 0 0]\n [0 0 0]\n [0 0 0]]\n"
    }
   ],
   "source": [
    "matrix=np.array([[1,2,3],[4,5,6],[7,8,10]])\n",
    "mat=np.array([[1,2,3],[4,5,6],[7,8,10]])\n",
    "print(matrix)\n",
    "print(mat)\n",
    "shape=matrix.shape\n",
    "min_n=min(shape[0],shape[1])\n",
    "L=np.zeros((min_n,min_n),dtype=np.int)\n",
    "U=np.zeros((min_n,min_n),dtype=np.int)\n",
    "for i in range(min_n):\n",
    "    L[i][i]=1\n",
    "\n",
    "print(L)\n",
    "print(U)\n",
    "\n",
    "\n"
   ]
  },
  {
   "cell_type": "code",
   "execution_count": 3,
   "metadata": {},
   "outputs": [],
   "source": [
    "for k in range(1,min_n):\n",
    "    for i in range(k+1,min_n+1):\n",
    "        L[i-1][k-1]=matrix[i-1][k-1]/matrix[k-1][k-1]\n",
    "    for j in range(k,min_n+1):\n",
    "        U[k-1][j-1]=matrix[k-1][j-1]\n",
    "    for i in range(k+1,min_n+1):\n",
    "        for j in range(k+1,min_n+1):\n",
    "            tmp=matrix[i-1][j-1]-L[i-1][k-1]*U[i-1][k-1]\n",
    "            matrix[i-1][j-1]=tmp\n",
    "#Slides上的样例代码有问题.\n",
    "#matrix矩阵不能得到变化            \n",
    "\n",
    "\n"
   ]
  },
  {
   "cell_type": "code",
   "execution_count": 4,
   "metadata": {},
   "outputs": [
    {
     "output_type": "stream",
     "name": "stdout",
     "text": "[[1 0 0]\n [4 1 0]\n [7 1 1]]\n[[1 2 3]\n [0 5 6]\n [0 0 0]]\n"
    }
   ],
   "source": [
    "print(L)\n",
    "print(U)"
   ]
  },
  {
   "cell_type": "code",
   "execution_count": 5,
   "metadata": {},
   "outputs": [
    {
     "output_type": "stream",
     "name": "stdout",
     "text": "L:\n[[0 0 0]\n [4 1 0]\n [7 2 2]]\nU:\n[[ 1  2  3]\n [ 0 -3 -6]\n [ 0  0  1]]\n"
    }
   ],
   "source": [
    "def LU(A):\n",
    "    n=len(A)\n",
    "    ##初始化LU为零矩阵\n",
    "    L=np.zeros((n,n),dtype=int)\n",
    "    U=np.zeros((n,n),dtype=int)\n",
    "    #用base来定义消元的基准行\n",
    "    for base in range(n-1):#[0,n-2],倒数第二行是基准\n",
    "        for i in range(base+1,n):#[base+1,n-1]\n",
    "            L[i][base]=A[i][base]/A[base][base]\n",
    "            A[i]=A[i]-L[i,base]*A[base]\n",
    "    for i in range(n):#[0,n-1]\n",
    "        L[i,i]=i\n",
    "    U=np.array(A)#U是得到LU分解的最终结果\n",
    "    print(\"L:\")\n",
    "    print(L)\n",
    "    print(\"U:\")\n",
    "    print(U)\n",
    "\n",
    "A = np.array([[1,2,3],[4,5,6],[7,8,10]])\n",
    "LU(A)\n",
    "    \n",
    "\n"
   ]
  },
  {
   "cell_type": "code",
   "execution_count": null,
   "metadata": {},
   "outputs": [],
   "source": []
  }
 ],
 "metadata": {
  "language_info": {
   "codemirror_mode": {
    "name": "ipython",
    "version": 3
   },
   "file_extension": ".py",
   "mimetype": "text/x-python",
   "name": "python",
   "nbconvert_exporter": "python",
   "pygments_lexer": "ipython3",
   "version": "3.7.3-final"
  },
  "orig_nbformat": 2,
  "kernelspec": {
   "name": "python3",
   "display_name": "Python 3"
  }
 },
 "nbformat": 4,
 "nbformat_minor": 2
}