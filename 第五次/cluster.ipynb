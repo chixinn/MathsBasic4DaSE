{
 "cells": [
  {
   "cell_type": "markdown",
   "metadata": {},
   "source": []
  },
  {
   "cell_type": "code",
   "execution_count": 1,
   "metadata": {},
   "outputs": [],
   "source": [
    "import numpy as np\n"
   ]
  },
  {
   "cell_type": "code",
   "execution_count": 2,
   "metadata": {},
   "outputs": [],
   "source": [
    "#对二维点建立图\n",
    "#k-最近邻邻建图\n",
    "#A\n",
    "#D\n",
    "#L\n",
    "#高斯和比重\n",
    "#次小特征值"
   ]
  },
  {
   "cell_type": "code",
   "execution_count": 3,
   "metadata": {},
   "outputs": [],
   "source": [
    "adjMatrix=np.array([[0,1,1,1,0,0],[1,0,1,1,0,0],[1,1,0,1,1,1],[1,1,1,0,1,1],[0,0,1,1,0,1],[0,0,1,1,1,0]])"
   ]
  },
  {
   "cell_type": "code",
   "execution_count": 4,
   "metadata": {},
   "outputs": [],
   "source": [
    "degMatrix=np.zeros((6,6),dtype=int)"
   ]
  },
  {
   "cell_type": "code",
   "execution_count": 5,
   "metadata": {},
   "outputs": [
    {
     "output_type": "stream",
     "name": "stdout",
     "text": "[[0 0 0 0 0 0]\n [0 0 0 0 0 0]\n [0 0 0 0 0 0]\n [0 0 0 0 0 0]\n [0 0 0 0 0 0]\n [0 0 0 0 0 0]]\n"
    }
   ],
   "source": [
    "print(degMatrix)"
   ]
  },
  {
   "cell_type": "code",
   "execution_count": 6,
   "metadata": {},
   "outputs": [],
   "source": [
    "def sumrow(adjMatrix,indexi):\n",
    "    sum=0\n",
    "    for i in range(0,6):\n",
    "        sum=sum+adjMatrix[indexi][i]\n",
    "    return sum"
   ]
  },
  {
   "cell_type": "code",
   "execution_count": 7,
   "metadata": {},
   "outputs": [],
   "source": [
    "for i in range(0,6):\n",
    "    degMatrix[i][i]=sumrow(adjMatrix,i)"
   ]
  },
  {
   "cell_type": "code",
   "execution_count": 8,
   "metadata": {},
   "outputs": [
    {
     "output_type": "stream",
     "name": "stdout",
     "text": "[[3 0 0 0 0 0]\n [0 3 0 0 0 0]\n [0 0 5 0 0 0]\n [0 0 0 5 0 0]\n [0 0 0 0 3 0]\n [0 0 0 0 0 3]]\n"
    }
   ],
   "source": [
    "print(degMatrix)"
   ]
  },
  {
   "cell_type": "code",
   "execution_count": 9,
   "metadata": {},
   "outputs": [],
   "source": [
    "L=np.array\n",
    "L=degMatrix-adjMatrix"
   ]
  },
  {
   "cell_type": "code",
   "execution_count": 10,
   "metadata": {},
   "outputs": [
    {
     "output_type": "stream",
     "name": "stdout",
     "text": "[[ 3 -1 -1 -1  0  0]\n [-1  3 -1 -1  0  0]\n [-1 -1  5 -1 -1 -1]\n [-1 -1 -1  5 -1 -1]\n [ 0  0 -1 -1  3 -1]\n [ 0  0 -1 -1 -1  3]]\n"
    }
   ],
   "source": [
    "#得到拉普拉斯矩阵如下:\n",
    "print(L)"
   ]
  },
  {
   "cell_type": "code",
   "execution_count": 11,
   "metadata": {},
   "outputs": [
    {
     "output_type": "stream",
     "name": "stdout",
     "text": "[[ 3 -1 -1 -1  0  0]\n [-1  3 -1 -1  0  0]\n [-1 -1  5 -1 -1 -1]\n [-1 -1 -1  5 -1 -1]\n [ 0  0 -1 -1  3 -1]\n [ 0  0 -1 -1 -1  3]]\n"
    }
   ],
   "source": [
    "L=np.matrix(L)\n",
    "print(L)"
   ]
  },
  {
   "cell_type": "code",
   "execution_count": 12,
   "metadata": {},
   "outputs": [],
   "source": [
    "eigvalue,featurevector=np.linalg.eig(L)"
   ]
  },
  {
   "cell_type": "code",
   "execution_count": 13,
   "metadata": {},
   "outputs": [],
   "source": [
    "eig=np.sort(eigvalue,axis=0)"
   ]
  },
  {
   "cell_type": "code",
   "execution_count": 14,
   "metadata": {},
   "outputs": [
    {
     "output_type": "stream",
     "name": "stdout",
     "text": "[-4.90367336e-16  2.00000000e+00  4.00000000e+00  4.00000000e+00\n  6.00000000e+00  6.00000000e+00]\n"
    }
   ],
   "source": [
    "print(eig)"
   ]
  },
  {
   "cell_type": "code",
   "execution_count": 15,
   "metadata": {},
   "outputs": [
    {
     "output_type": "stream",
     "name": "stdout",
     "text": "由上述特征值的排序,可以得到图像的谱聚类结果\n"
    }
   ],
   "source": [
    "print(\"由上述特征值的排序,可以得到图像的谱聚类结果\")"
   ]
  },
  {
   "cell_type": "code",
   "execution_count": null,
   "metadata": {},
   "outputs": [],
   "source": []
  }
 ],
 "metadata": {
  "language_info": {
   "codemirror_mode": {
    "name": "ipython",
    "version": 3
   },
   "file_extension": ".py",
   "mimetype": "text/x-python",
   "name": "python",
   "nbconvert_exporter": "python",
   "pygments_lexer": "ipython3",
   "version": "3.7.0-final"
  },
  "orig_nbformat": 2,
  "kernelspec": {
   "name": "python37064bit4634c396f7274cfc84a357ec6ff6998c",
   "display_name": "Python 3.7.0 64-bit"
  }
 },
 "nbformat": 4,
 "nbformat_minor": 2
}